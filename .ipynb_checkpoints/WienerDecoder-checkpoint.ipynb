{
 "cells": [
  {
   "cell_type": "code",
   "execution_count": 1,
   "id": "rough-timber",
   "metadata": {},
   "outputs": [
    {
     "name": "stdout",
     "output_type": "stream",
     "text": [
      "\n",
      "WARNING: statsmodels is not installed. You will be unable to use the Naive Bayes Decoder\n",
      "\n",
      "WARNING: Xgboost package is not installed. You will be unable to use the xgboost decoder\n",
      "\n",
      "WARNING: hyperopt package is not installed. You will be unable to use section 5.\n"
     ]
    }
   ],
   "source": [
    "\n",
    "\n",
    "#Import standard packages\n",
    "import numpy as np\n",
    "import matplotlib.pyplot as plt\n",
    "%matplotlib inline\n",
    "from scipy import io\n",
    "from scipy import stats\n",
    "import pickle\n",
    "import time\n",
    "# If you would prefer to load the '.h5' example file rather than the '.pickle' example file. You need the deepdish package\n",
    "# import deepdish as dd \n",
    "\n",
    "#Import function to get the covariate matrix that includes spike history from previous bins\n",
    "from Neural_Decoding.preprocessing_funcs import get_spikes_with_history\n",
    "\n",
    "#Import metrics\n",
    "from Neural_Decoding.metrics import get_R2\n",
    "from Neural_Decoding.metrics import get_rho\n",
    "\n",
    "#Import decoder functions\n",
    "from Neural_Decoding.decoders import WienerCascadeDecoder\n",
    "from Neural_Decoding.decoders import WienerFilterDecoder\n",
    "\n",
    "#Import hyperparameter optimization packages\n",
    "#If either are not installed, give a warning\n",
    "try:\n",
    "    from bayes_opt import BayesianOptimization\n",
    "except ImportError:\n",
    "    print(\"\\nWARNING: BayesianOptimization package is not installed. You will be unable to use section 4.\")\n",
    "    pass\n",
    "\n",
    "try:\n",
    "    from hyperopt import fmin, hp, Trials, tpe, STATUS_OK\n",
    "except ImportError:\n",
    "    print(\"\\nWARNING: hyperopt package is not installed. You will be unable to use section 5.\")\n",
    "    pass\n",
    "\n"
   ]
  },
  {
   "cell_type": "code",
   "execution_count": 2,
   "id": "opening-conversation",
   "metadata": {},
   "outputs": [],
   "source": [
    "###Load Data###\n",
    "folder='' #ENTER THE FOLDER THAT YOUR DATA IS IN\n",
    "# folder='/Users/jig289/Dropbox/MATLAB/Projects/In_Progress/BMI/Processed_Data/' \n",
    "data=io.loadmat(folder+'jeb7_decoding.mat')\n",
    "\n",
    "latents_avg = data['latents_avg']\n",
    "latents = data['latents']\n",
    "jawPos = data['jawPos']\n",
    "jawVel = data['jawVel']\n",
    "jawAcc = data['jawAcc']"
   ]
  },
  {
   "cell_type": "code",
   "execution_count": 3,
   "id": "overhead-rochester",
   "metadata": {},
   "outputs": [],
   "source": [
    "bins_before=100 #How many bins of neural data prior to the output are used for decoding\n",
    "bins_current=1 #Whether to use concurrent time bin of neural data\n",
    "bins_after=5 #How many bins of neural data after the output are used for decoding"
   ]
  },
  {
   "cell_type": "code",
   "execution_count": 4,
   "id": "recorded-storm",
   "metadata": {},
   "outputs": [],
   "source": [
    "# Format for recurrent neural networks (SimpleRNN, GRU, LSTM)\n",
    "# Function to get the covariate matrix that includes spike history from previous bins\n",
    "X=get_spikes_with_history(latents,bins_before,bins_after,bins_current)\n",
    "\n",
    "# Format for Wiener Filter, Wiener Cascade, XGBoost, and Dense Neural Network\n",
    "#Put in \"flat\" format, so each \"neuron / time\" is a single feature\n",
    "X_flat=X.reshape(X.shape[0],(X.shape[1]*X.shape[2]))"
   ]
  },
  {
   "cell_type": "code",
   "execution_count": 5,
   "id": "hollow-anxiety",
   "metadata": {},
   "outputs": [],
   "source": [
    "#Set decoding output\n",
    "y=jawPos"
   ]
  },
  {
   "cell_type": "code",
   "execution_count": 6,
   "id": "responsible-shannon",
   "metadata": {},
   "outputs": [],
   "source": [
    "#Set what part of data should be part of the training/testing/validation sets\n",
    "training_range=[0, 0.7]\n",
    "testing_range=[0.7, 0.85]\n",
    "valid_range=[0.85,1]"
   ]
  },
  {
   "cell_type": "code",
   "execution_count": 7,
   "id": "adult-watershed",
   "metadata": {},
   "outputs": [
    {
     "name": "stderr",
     "output_type": "stream",
     "text": [
      "/var/folders/8z/7700l6954h7904db5vm_r6900000gn/T/ipykernel_32299/2031062748.py:5: DeprecationWarning: `np.int` is a deprecated alias for the builtin `int`. To silence this warning, use `int` by itself. Doing this will not modify any behavior and is safe. When replacing `np.int`, you may wish to use e.g. `np.int64` or `np.int32` to specify the precision. If you wish to review your current use, check the release note link for additional information.\n",
      "Deprecated in NumPy 1.20; for more details and guidance: https://numpy.org/devdocs/release/1.20.0-notes.html#deprecations\n",
      "  training_set=np.arange(np.int(np.round(training_range[0]*num_examples))+bins_before,np.int(np.round(training_range[1]*num_examples))-bins_after)\n",
      "/var/folders/8z/7700l6954h7904db5vm_r6900000gn/T/ipykernel_32299/2031062748.py:6: DeprecationWarning: `np.int` is a deprecated alias for the builtin `int`. To silence this warning, use `int` by itself. Doing this will not modify any behavior and is safe. When replacing `np.int`, you may wish to use e.g. `np.int64` or `np.int32` to specify the precision. If you wish to review your current use, check the release note link for additional information.\n",
      "Deprecated in NumPy 1.20; for more details and guidance: https://numpy.org/devdocs/release/1.20.0-notes.html#deprecations\n",
      "  testing_set=np.arange(np.int(np.round(testing_range[0]*num_examples))+bins_before,np.int(np.round(testing_range[1]*num_examples))-bins_after)\n",
      "/var/folders/8z/7700l6954h7904db5vm_r6900000gn/T/ipykernel_32299/2031062748.py:7: DeprecationWarning: `np.int` is a deprecated alias for the builtin `int`. To silence this warning, use `int` by itself. Doing this will not modify any behavior and is safe. When replacing `np.int`, you may wish to use e.g. `np.int64` or `np.int32` to specify the precision. If you wish to review your current use, check the release note link for additional information.\n",
      "Deprecated in NumPy 1.20; for more details and guidance: https://numpy.org/devdocs/release/1.20.0-notes.html#deprecations\n",
      "  valid_set=np.arange(np.int(np.round(valid_range[0]*num_examples))+bins_before,np.int(np.round(valid_range[1]*num_examples))-bins_after)\n"
     ]
    }
   ],
   "source": [
    "num_examples=X.shape[0]\n",
    "\n",
    "#Note that each range has a buffer of\"bins_before\" bins at the beginning, and \"bins_after\" bins at the end\n",
    "#This makes it so that the different sets don't include overlapping neural data\n",
    "training_set=np.arange(np.int(np.round(training_range[0]*num_examples))+bins_before,np.int(np.round(training_range[1]*num_examples))-bins_after)\n",
    "testing_set=np.arange(np.int(np.round(testing_range[0]*num_examples))+bins_before,np.int(np.round(testing_range[1]*num_examples))-bins_after)\n",
    "valid_set=np.arange(np.int(np.round(valid_range[0]*num_examples))+bins_before,np.int(np.round(valid_range[1]*num_examples))-bins_after)\n",
    "\n",
    "#Get training data\n",
    "X_train=X[training_set,:,:]\n",
    "X_flat_train=X_flat[training_set,:]\n",
    "y_train=y[training_set,:]\n",
    "\n",
    "#Get testing data\n",
    "X_test=X[testing_set,:,:]\n",
    "X_flat_test=X_flat[testing_set,:]\n",
    "y_test=y[testing_set,:]\n",
    "\n",
    "#Get validation data\n",
    "X_valid=X[valid_set,:,:]\n",
    "X_flat_valid=X_flat[valid_set,:]\n",
    "y_valid=y[valid_set,:]"
   ]
  },
  {
   "cell_type": "code",
   "execution_count": 8,
   "id": "grateful-comparison",
   "metadata": {},
   "outputs": [],
   "source": [
    "#Z-score \"X\" inputs. \n",
    "X_train_mean=np.nanmean(X_train,axis=0)\n",
    "X_train_std=np.nanstd(X_train,axis=0)\n",
    "X_train=(X_train-X_train_mean)/X_train_std\n",
    "X_test=(X_test-X_train_mean)/X_train_std\n",
    "X_valid=(X_valid-X_train_mean)/X_train_std\n",
    "\n",
    "#Z-score \"X_flat\" inputs. \n",
    "X_flat_train_mean=np.nanmean(X_flat_train,axis=0)\n",
    "X_flat_train_std=np.nanstd(X_flat_train,axis=0)\n",
    "X_flat_train=(X_flat_train-X_flat_train_mean)/X_flat_train_std\n",
    "X_flat_test=(X_flat_test-X_flat_train_mean)/X_flat_train_std\n",
    "X_flat_valid=(X_flat_valid-X_flat_train_mean)/X_flat_train_std\n",
    "\n",
    "#Zero-center outputs\n",
    "y_train_mean=np.mean(y_train,axis=0)\n",
    "y_train=y_train-y_train_mean\n",
    "y_test=y_test-y_train_mean\n",
    "y_valid=y_valid-y_train_mean"
   ]
  },
  {
   "cell_type": "code",
   "execution_count": 25,
   "id": "sexual-headline",
   "metadata": {},
   "outputs": [],
   "source": [
    "def wc_evaluate(degree):\n",
    "    model_wc=WienerCascadeDecoder(degree) #Define model\n",
    "    model_wc.fit(X_flat_train,y_train) #Fit model\n",
    "    y_valid_predicted_wc=model_wc.predict(X_flat_valid) #Validation set predictions\n",
    "    return np.mean(get_R2(y_valid,y_valid_predicted_wc)) #R2 value of validation set (mean over x and y position/velocity)"
   ]
  },
  {
   "cell_type": "code",
   "execution_count": 26,
   "id": "derived-workplace",
   "metadata": {
    "collapsed": true
   },
   "outputs": [
    {
     "ename": "KeyboardInterrupt",
     "evalue": "",
     "output_type": "error",
     "traceback": [
      "\u001b[0;31m---------------------------------------------------------------------------\u001b[0m",
      "\u001b[0;31mKeyError\u001b[0m                                  Traceback (most recent call last)",
      "File \u001b[0;32m~/opt/anaconda3/envs/neural-decoding/lib/python3.9/site-packages/bayes_opt/target_space.py:191\u001b[0m, in \u001b[0;36mTargetSpace.probe\u001b[0;34m(self, params)\u001b[0m\n\u001b[1;32m    190\u001b[0m \u001b[38;5;28;01mtry\u001b[39;00m:\n\u001b[0;32m--> 191\u001b[0m     target \u001b[38;5;241m=\u001b[39m \u001b[38;5;28;43mself\u001b[39;49m\u001b[38;5;241;43m.\u001b[39;49m\u001b[43m_cache\u001b[49m\u001b[43m[\u001b[49m\u001b[43m_hashable\u001b[49m\u001b[43m(\u001b[49m\u001b[43mx\u001b[49m\u001b[43m)\u001b[49m\u001b[43m]\u001b[49m\n\u001b[1;32m    192\u001b[0m \u001b[38;5;28;01mexcept\u001b[39;00m \u001b[38;5;167;01mKeyError\u001b[39;00m:\n",
      "\u001b[0;31mKeyError\u001b[0m: (4.524010425838372,)",
      "\nDuring handling of the above exception, another exception occurred:\n",
      "\u001b[0;31mKeyboardInterrupt\u001b[0m                         Traceback (most recent call last)",
      "Input \u001b[0;32mIn [26]\u001b[0m, in \u001b[0;36m<cell line: 7>\u001b[0;34m()\u001b[0m\n\u001b[1;32m      3\u001b[0m wcBO \u001b[38;5;241m=\u001b[39m BayesianOptimization(wc_evaluate, {\u001b[38;5;124m'\u001b[39m\u001b[38;5;124mdegree\u001b[39m\u001b[38;5;124m'\u001b[39m: (\u001b[38;5;241m1\u001b[39m, \u001b[38;5;241m6.99\u001b[39m)}, verbose\u001b[38;5;241m=\u001b[39m\u001b[38;5;241m0\u001b[39m)\n\u001b[1;32m      4\u001b[0m \u001b[38;5;66;03m#Set number of initial runs (init_points) and subsequent tests (n_iter), and do the optimization\u001b[39;00m\n\u001b[1;32m      5\u001b[0m \u001b[38;5;66;03m#kappa is a parameter that sets exploration vs exploitation in the algorithm\u001b[39;00m\n\u001b[1;32m      6\u001b[0m \u001b[38;5;66;03m#We set kappa=10 (greater than the default) so there is more exploration when there are more hyperparameters\u001b[39;00m\n\u001b[0;32m----> 7\u001b[0m \u001b[43mwcBO\u001b[49m\u001b[38;5;241;43m.\u001b[39;49m\u001b[43mmaximize\u001b[49m\u001b[43m(\u001b[49m\u001b[43minit_points\u001b[49m\u001b[38;5;241;43m=\u001b[39;49m\u001b[38;5;241;43m5\u001b[39;49m\u001b[43m,\u001b[49m\u001b[43m \u001b[49m\u001b[43mn_iter\u001b[49m\u001b[38;5;241;43m=\u001b[39;49m\u001b[38;5;241;43m5\u001b[39;49m\u001b[43m,\u001b[49m\u001b[43m \u001b[49m\u001b[43mkappa\u001b[49m\u001b[38;5;241;43m=\u001b[39;49m\u001b[38;5;241;43m10\u001b[39;49m\u001b[43m)\u001b[49m\n",
      "File \u001b[0;32m~/opt/anaconda3/envs/neural-decoding/lib/python3.9/site-packages/bayes_opt/bayesian_optimization.py:185\u001b[0m, in \u001b[0;36mBayesianOptimization.maximize\u001b[0;34m(self, init_points, n_iter, acq, kappa, kappa_decay, kappa_decay_delay, xi, **gp_params)\u001b[0m\n\u001b[1;32m    182\u001b[0m     x_probe \u001b[38;5;241m=\u001b[39m \u001b[38;5;28mself\u001b[39m\u001b[38;5;241m.\u001b[39msuggest(util)\n\u001b[1;32m    183\u001b[0m     iteration \u001b[38;5;241m+\u001b[39m\u001b[38;5;241m=\u001b[39m \u001b[38;5;241m1\u001b[39m\n\u001b[0;32m--> 185\u001b[0m \u001b[38;5;28;43mself\u001b[39;49m\u001b[38;5;241;43m.\u001b[39;49m\u001b[43mprobe\u001b[49m\u001b[43m(\u001b[49m\u001b[43mx_probe\u001b[49m\u001b[43m,\u001b[49m\u001b[43m \u001b[49m\u001b[43mlazy\u001b[49m\u001b[38;5;241;43m=\u001b[39;49m\u001b[38;5;28;43;01mFalse\u001b[39;49;00m\u001b[43m)\u001b[49m\n\u001b[1;32m    187\u001b[0m \u001b[38;5;28;01mif\u001b[39;00m \u001b[38;5;28mself\u001b[39m\u001b[38;5;241m.\u001b[39m_bounds_transformer:\n\u001b[1;32m    188\u001b[0m     \u001b[38;5;28mself\u001b[39m\u001b[38;5;241m.\u001b[39mset_bounds(\n\u001b[1;32m    189\u001b[0m         \u001b[38;5;28mself\u001b[39m\u001b[38;5;241m.\u001b[39m_bounds_transformer\u001b[38;5;241m.\u001b[39mtransform(\u001b[38;5;28mself\u001b[39m\u001b[38;5;241m.\u001b[39m_space))\n",
      "File \u001b[0;32m~/opt/anaconda3/envs/neural-decoding/lib/python3.9/site-packages/bayes_opt/bayesian_optimization.py:116\u001b[0m, in \u001b[0;36mBayesianOptimization.probe\u001b[0;34m(self, params, lazy)\u001b[0m\n\u001b[1;32m    114\u001b[0m     \u001b[38;5;28mself\u001b[39m\u001b[38;5;241m.\u001b[39m_queue\u001b[38;5;241m.\u001b[39madd(params)\n\u001b[1;32m    115\u001b[0m \u001b[38;5;28;01melse\u001b[39;00m:\n\u001b[0;32m--> 116\u001b[0m     \u001b[38;5;28;43mself\u001b[39;49m\u001b[38;5;241;43m.\u001b[39;49m\u001b[43m_space\u001b[49m\u001b[38;5;241;43m.\u001b[39;49m\u001b[43mprobe\u001b[49m\u001b[43m(\u001b[49m\u001b[43mparams\u001b[49m\u001b[43m)\u001b[49m\n\u001b[1;32m    117\u001b[0m     \u001b[38;5;28mself\u001b[39m\u001b[38;5;241m.\u001b[39mdispatch(Events\u001b[38;5;241m.\u001b[39mOPTIMIZATION_STEP)\n",
      "File \u001b[0;32m~/opt/anaconda3/envs/neural-decoding/lib/python3.9/site-packages/bayes_opt/target_space.py:194\u001b[0m, in \u001b[0;36mTargetSpace.probe\u001b[0;34m(self, params)\u001b[0m\n\u001b[1;32m    192\u001b[0m \u001b[38;5;28;01mexcept\u001b[39;00m \u001b[38;5;167;01mKeyError\u001b[39;00m:\n\u001b[1;32m    193\u001b[0m     params \u001b[38;5;241m=\u001b[39m \u001b[38;5;28mdict\u001b[39m(\u001b[38;5;28mzip\u001b[39m(\u001b[38;5;28mself\u001b[39m\u001b[38;5;241m.\u001b[39m_keys, x))\n\u001b[0;32m--> 194\u001b[0m     target \u001b[38;5;241m=\u001b[39m \u001b[38;5;28;43mself\u001b[39;49m\u001b[38;5;241;43m.\u001b[39;49m\u001b[43mtarget_func\u001b[49m\u001b[43m(\u001b[49m\u001b[38;5;241;43m*\u001b[39;49m\u001b[38;5;241;43m*\u001b[39;49m\u001b[43mparams\u001b[49m\u001b[43m)\u001b[49m\n\u001b[1;32m    195\u001b[0m     \u001b[38;5;28mself\u001b[39m\u001b[38;5;241m.\u001b[39mregister(x, target)\n\u001b[1;32m    196\u001b[0m \u001b[38;5;28;01mreturn\u001b[39;00m target\n",
      "Input \u001b[0;32mIn [25]\u001b[0m, in \u001b[0;36mwc_evaluate\u001b[0;34m(degree)\u001b[0m\n\u001b[1;32m      1\u001b[0m \u001b[38;5;28;01mdef\u001b[39;00m \u001b[38;5;21mwc_evaluate\u001b[39m(degree):\n\u001b[1;32m      2\u001b[0m     model_wc\u001b[38;5;241m=\u001b[39mWienerCascadeDecoder(degree) \u001b[38;5;66;03m#Define model\u001b[39;00m\n\u001b[0;32m----> 3\u001b[0m     \u001b[43mmodel_wc\u001b[49m\u001b[38;5;241;43m.\u001b[39;49m\u001b[43mfit\u001b[49m\u001b[43m(\u001b[49m\u001b[43mX_flat_train\u001b[49m\u001b[43m,\u001b[49m\u001b[43my_train\u001b[49m\u001b[43m)\u001b[49m \u001b[38;5;66;03m#Fit model\u001b[39;00m\n\u001b[1;32m      4\u001b[0m     y_valid_predicted_wc\u001b[38;5;241m=\u001b[39mmodel_wc\u001b[38;5;241m.\u001b[39mpredict(X_flat_valid) \u001b[38;5;66;03m#Validation set predictions\u001b[39;00m\n\u001b[1;32m      5\u001b[0m     \u001b[38;5;28;01mreturn\u001b[39;00m np\u001b[38;5;241m.\u001b[39mmean(get_R2(y_valid,y_valid_predicted_wc))\n",
      "File \u001b[0;32m~/opt/anaconda3/envs/neural-decoding/lib/python3.9/site-packages/Neural_Decoding/decoders.py:163\u001b[0m, in \u001b[0;36mWienerCascadeRegression.fit\u001b[0;34m(self, X_flat_train, y_train)\u001b[0m\n\u001b[1;32m    160\u001b[0m \u001b[38;5;28;01mfor\u001b[39;00m i \u001b[38;5;129;01min\u001b[39;00m \u001b[38;5;28mrange\u001b[39m(num_outputs): \u001b[38;5;66;03m#Loop through outputs\u001b[39;00m\n\u001b[1;32m    161\u001b[0m     \u001b[38;5;66;03m#Fit linear portion of model\u001b[39;00m\n\u001b[1;32m    162\u001b[0m     regr \u001b[38;5;241m=\u001b[39m linear_model\u001b[38;5;241m.\u001b[39mLinearRegression() \u001b[38;5;66;03m#Call the linear portion of the model \"regr\"\u001b[39;00m\n\u001b[0;32m--> 163\u001b[0m     \u001b[43mregr\u001b[49m\u001b[38;5;241;43m.\u001b[39;49m\u001b[43mfit\u001b[49m\u001b[43m(\u001b[49m\u001b[43mX_flat_train\u001b[49m\u001b[43m,\u001b[49m\u001b[43m \u001b[49m\u001b[43my_train\u001b[49m\u001b[43m[\u001b[49m\u001b[43m:\u001b[49m\u001b[43m,\u001b[49m\u001b[43mi\u001b[49m\u001b[43m]\u001b[49m\u001b[43m)\u001b[49m \u001b[38;5;66;03m#Fit linear\u001b[39;00m\n\u001b[1;32m    164\u001b[0m     y_train_predicted_linear\u001b[38;5;241m=\u001b[39mregr\u001b[38;5;241m.\u001b[39mpredict(X_flat_train) \u001b[38;5;66;03m# Get outputs of linear portion of model\u001b[39;00m\n\u001b[1;32m    165\u001b[0m     \u001b[38;5;66;03m#Fit nonlinear portion of model\u001b[39;00m\n",
      "File \u001b[0;32m~/opt/anaconda3/envs/neural-decoding/lib/python3.9/site-packages/sklearn/linear_model/_base.py:669\u001b[0m, in \u001b[0;36mLinearRegression.fit\u001b[0;34m(self, X, y, sample_weight)\u001b[0m\n\u001b[1;32m    666\u001b[0m \u001b[38;5;28;01mif\u001b[39;00m sample_weight \u001b[38;5;129;01mis\u001b[39;00m \u001b[38;5;129;01mnot\u001b[39;00m \u001b[38;5;28;01mNone\u001b[39;00m:\n\u001b[1;32m    667\u001b[0m     sample_weight \u001b[38;5;241m=\u001b[39m _check_sample_weight(sample_weight, X, dtype\u001b[38;5;241m=\u001b[39mX\u001b[38;5;241m.\u001b[39mdtype)\n\u001b[0;32m--> 669\u001b[0m X, y, X_offset, y_offset, X_scale \u001b[38;5;241m=\u001b[39m \u001b[38;5;28;43mself\u001b[39;49m\u001b[38;5;241;43m.\u001b[39;49m\u001b[43m_preprocess_data\u001b[49m\u001b[43m(\u001b[49m\n\u001b[1;32m    670\u001b[0m \u001b[43m    \u001b[49m\u001b[43mX\u001b[49m\u001b[43m,\u001b[49m\n\u001b[1;32m    671\u001b[0m \u001b[43m    \u001b[49m\u001b[43my\u001b[49m\u001b[43m,\u001b[49m\n\u001b[1;32m    672\u001b[0m \u001b[43m    \u001b[49m\u001b[43mfit_intercept\u001b[49m\u001b[38;5;241;43m=\u001b[39;49m\u001b[38;5;28;43mself\u001b[39;49m\u001b[38;5;241;43m.\u001b[39;49m\u001b[43mfit_intercept\u001b[49m\u001b[43m,\u001b[49m\n\u001b[1;32m    673\u001b[0m \u001b[43m    \u001b[49m\u001b[43mnormalize\u001b[49m\u001b[38;5;241;43m=\u001b[39;49m\u001b[43m_normalize\u001b[49m\u001b[43m,\u001b[49m\n\u001b[1;32m    674\u001b[0m \u001b[43m    \u001b[49m\u001b[43mcopy\u001b[49m\u001b[38;5;241;43m=\u001b[39;49m\u001b[38;5;28;43mself\u001b[39;49m\u001b[38;5;241;43m.\u001b[39;49m\u001b[43mcopy_X\u001b[49m\u001b[43m,\u001b[49m\n\u001b[1;32m    675\u001b[0m \u001b[43m    \u001b[49m\u001b[43msample_weight\u001b[49m\u001b[38;5;241;43m=\u001b[39;49m\u001b[43msample_weight\u001b[49m\u001b[43m,\u001b[49m\n\u001b[1;32m    676\u001b[0m \u001b[43m    \u001b[49m\u001b[43mreturn_mean\u001b[49m\u001b[38;5;241;43m=\u001b[39;49m\u001b[38;5;28;43;01mTrue\u001b[39;49;00m\u001b[43m,\u001b[49m\n\u001b[1;32m    677\u001b[0m \u001b[43m\u001b[49m\u001b[43m)\u001b[49m\n\u001b[1;32m    679\u001b[0m \u001b[38;5;28;01mif\u001b[39;00m sample_weight \u001b[38;5;129;01mis\u001b[39;00m \u001b[38;5;129;01mnot\u001b[39;00m \u001b[38;5;28;01mNone\u001b[39;00m:\n\u001b[1;32m    680\u001b[0m     \u001b[38;5;66;03m# Sample weight can be implemented via a simple rescaling.\u001b[39;00m\n\u001b[1;32m    681\u001b[0m     X, y \u001b[38;5;241m=\u001b[39m _rescale_data(X, y, sample_weight)\n",
      "File \u001b[0;32m~/opt/anaconda3/envs/neural-decoding/lib/python3.9/site-packages/sklearn/linear_model/_base.py:247\u001b[0m, in \u001b[0;36m_preprocess_data\u001b[0;34m(X, y, fit_intercept, normalize, copy, sample_weight, return_mean, check_input)\u001b[0m\n\u001b[1;32m    244\u001b[0m     sample_weight \u001b[38;5;241m=\u001b[39m np\u001b[38;5;241m.\u001b[39masarray(sample_weight)\n\u001b[1;32m    246\u001b[0m \u001b[38;5;28;01mif\u001b[39;00m check_input:\n\u001b[0;32m--> 247\u001b[0m     X \u001b[38;5;241m=\u001b[39m \u001b[43mcheck_array\u001b[49m\u001b[43m(\u001b[49m\u001b[43mX\u001b[49m\u001b[43m,\u001b[49m\u001b[43m \u001b[49m\u001b[43mcopy\u001b[49m\u001b[38;5;241;43m=\u001b[39;49m\u001b[43mcopy\u001b[49m\u001b[43m,\u001b[49m\u001b[43m \u001b[49m\u001b[43maccept_sparse\u001b[49m\u001b[38;5;241;43m=\u001b[39;49m\u001b[43m[\u001b[49m\u001b[38;5;124;43m\"\u001b[39;49m\u001b[38;5;124;43mcsr\u001b[39;49m\u001b[38;5;124;43m\"\u001b[39;49m\u001b[43m,\u001b[49m\u001b[43m \u001b[49m\u001b[38;5;124;43m\"\u001b[39;49m\u001b[38;5;124;43mcsc\u001b[39;49m\u001b[38;5;124;43m\"\u001b[39;49m\u001b[43m]\u001b[49m\u001b[43m,\u001b[49m\u001b[43m \u001b[49m\u001b[43mdtype\u001b[49m\u001b[38;5;241;43m=\u001b[39;49m\u001b[43mFLOAT_DTYPES\u001b[49m\u001b[43m)\u001b[49m\n\u001b[1;32m    248\u001b[0m \u001b[38;5;28;01melif\u001b[39;00m copy:\n\u001b[1;32m    249\u001b[0m     \u001b[38;5;28;01mif\u001b[39;00m sp\u001b[38;5;241m.\u001b[39missparse(X):\n",
      "File \u001b[0;32m~/opt/anaconda3/envs/neural-decoding/lib/python3.9/site-packages/sklearn/utils/validation.py:821\u001b[0m, in \u001b[0;36mcheck_array\u001b[0;34m(array, accept_sparse, accept_large_sparse, dtype, order, copy, force_all_finite, ensure_2d, allow_nd, ensure_min_samples, ensure_min_features, estimator)\u001b[0m\n\u001b[1;32m    814\u001b[0m         \u001b[38;5;28;01mraise\u001b[39;00m \u001b[38;5;167;01mValueError\u001b[39;00m(\n\u001b[1;32m    815\u001b[0m             \u001b[38;5;124m\"\u001b[39m\u001b[38;5;124mFound array with \u001b[39m\u001b[38;5;132;01m%d\u001b[39;00m\u001b[38;5;124m feature(s) (shape=\u001b[39m\u001b[38;5;132;01m%s\u001b[39;00m\u001b[38;5;124m) while\u001b[39m\u001b[38;5;124m\"\u001b[39m\n\u001b[1;32m    816\u001b[0m             \u001b[38;5;124m\"\u001b[39m\u001b[38;5;124m a minimum of \u001b[39m\u001b[38;5;132;01m%d\u001b[39;00m\u001b[38;5;124m is required\u001b[39m\u001b[38;5;132;01m%s\u001b[39;00m\u001b[38;5;124m.\u001b[39m\u001b[38;5;124m\"\u001b[39m\n\u001b[1;32m    817\u001b[0m             \u001b[38;5;241m%\u001b[39m (n_features, array\u001b[38;5;241m.\u001b[39mshape, ensure_min_features, context)\n\u001b[1;32m    818\u001b[0m         )\n\u001b[1;32m    820\u001b[0m \u001b[38;5;28;01mif\u001b[39;00m copy \u001b[38;5;129;01mand\u001b[39;00m np\u001b[38;5;241m.\u001b[39mmay_share_memory(array, array_orig):\n\u001b[0;32m--> 821\u001b[0m     array \u001b[38;5;241m=\u001b[39m \u001b[43mnp\u001b[49m\u001b[38;5;241;43m.\u001b[39;49m\u001b[43marray\u001b[49m\u001b[43m(\u001b[49m\u001b[43marray\u001b[49m\u001b[43m,\u001b[49m\u001b[43m \u001b[49m\u001b[43mdtype\u001b[49m\u001b[38;5;241;43m=\u001b[39;49m\u001b[43mdtype\u001b[49m\u001b[43m,\u001b[49m\u001b[43m \u001b[49m\u001b[43morder\u001b[49m\u001b[38;5;241;43m=\u001b[39;49m\u001b[43morder\u001b[49m\u001b[43m)\u001b[49m\n\u001b[1;32m    823\u001b[0m \u001b[38;5;28;01mreturn\u001b[39;00m array\n",
      "\u001b[0;31mKeyboardInterrupt\u001b[0m: "
     ]
    }
   ],
   "source": [
    "#Define Bayesian optimization, and set limits of hyperparameters \n",
    "#Here, we set the limit of \"degree\" to be [1, 6.99], so we test degrees 1,2,3,4,5,6\n",
    "wcBO = BayesianOptimization(wc_evaluate, {'degree': (1, 6.99)}, verbose=0)\n",
    "#Set number of initial runs (init_points) and subsequent tests (n_iter), and do the optimization\n",
    "#kappa is a parameter that sets exploration vs exploitation in the algorithm\n",
    "#We set kappa=10 (greater than the default) so there is more exploration when there are more hyperparameters\n",
    "wcBO.maximize(init_points=5, n_iter=5, kappa=10) "
   ]
  },
  {
   "cell_type": "code",
   "execution_count": 79,
   "id": "stretch-diameter",
   "metadata": {},
   "outputs": [
    {
     "name": "stdout",
     "output_type": "stream",
     "text": [
      "2.6606840322709155\n"
     ]
    }
   ],
   "source": [
    "#Print out the best parameters and associated R2 value (called \"max_val\")\n",
    "degree = wcBO.max['params']['degree']\n",
    "print(degree)"
   ]
  },
  {
   "cell_type": "code",
   "execution_count": 27,
   "id": "front-abraham",
   "metadata": {},
   "outputs": [
    {
     "name": "stdout",
     "output_type": "stream",
     "text": [
      "R2s_wc: [0.26787291 0.42570974]\n",
      "rho2s_wc: [0.27479355 0.45187191]\n"
     ]
    }
   ],
   "source": [
    "#\"degree\" was determined during hyperparameter optimization\n",
    "degree = 2.6606840322709155\n",
    "model_wc=WienerCascadeDecoder(degree) #Declare model w/ fit hyperparameter\n",
    "model_wc.fit(X_flat_train,y_train) #Fit model on training data\n",
    "y_test_predicted_wc=model_wc.predict(X_flat_test) #Get test set predictions\n",
    "#Print R2 values on test set\n",
    "R2s_wc=get_R2(y_test,y_test_predicted_wc)\n",
    "print('R2s_wc:', R2s_wc)\n",
    "\n",
    "rho2s_wc=get_rho(y_test,y_test_predicted_wc)**2\n",
    "print('rho2s_wc:', rho2s_wc)\n"
   ]
  },
  {
   "cell_type": "code",
   "execution_count": 31,
   "id": "macro-fancy",
   "metadata": {},
   "outputs": [
    {
     "data": {
      "text/plain": [
       "Text(0.5, 1.0, 'Y Position')"
      ]
     },
     "execution_count": 31,
     "metadata": {},
     "output_type": "execute_result"
    },
    {
     "data": {
      "image/png": "[encoded data removed]",
      "text/plain": [
       "<Figure size 864x576 with 2 Axes>"
      ]
     },
     "metadata": {
      "needs_background": "light"
     },
     "output_type": "display_data"
    }
   ],
   "source": [
    "nIdx = y_test.shape[0]\n",
    "nIdx = nIdx - 1001\n",
    "low = np.random.randint(0, high=nIdx)\n",
    "randTime = np.arange(low,low+1000)\n",
    "\n",
    "fig, axs = plt.subplots(2, 1,figsize=(12,8))\n",
    "feat = 0\n",
    "axs[0].plot(y_test[randTime,feat]+y_train_mean[feat],'b')\n",
    "axs[0].plot(y_test_predicted_wc[randTime,feat]+y_train_mean[feat],'r')\n",
    "axs[0].set_title('X Position')\n",
    "\n",
    "feat = 1\n",
    "axs[1].plot(y_test[randTime,feat]+y_train_mean[feat],'b')\n",
    "axs[1].plot(y_test_predicted_wc[randTime,feat]+y_train_mean[feat],'r')\n",
    "axs[1].set_title('Y Position')\n",
    "\n"
   ]
  },
  {
   "cell_type": "code",
   "execution_count": 51,
   "id": "bulgarian-messaging",
   "metadata": {},
   "outputs": [
    {
     "data": {
      "text/plain": [
       "<AxesSubplot:>"
      ]
     },
     "execution_count": 51,
     "metadata": {},
     "output_type": "execute_result"
    }
   ],
   "source": [
    "axs"
   ]
  },
  {
   "cell_type": "code",
   "execution_count": null,
   "id": "unusual-driver",
   "metadata": {},
   "outputs": [],
   "source": []
  },
  {
   "cell_type": "code",
   "execution_count": 23,
   "id": "democratic-mathematics",
   "metadata": {},
   "outputs": [],
   "source": [
    "def leaveOneModeOut(data):\n",
    "    \n",
    "    latents_avg = data['latents_avg']\n",
    "    latents = data['latents']\n",
    "    for i in range(latents.shape[1]):\n",
    "        neural_data = np.delete(latents,i,1) # delete ith column\n",
    "        jawPos = data['jawPos']\n",
    "        jawVel = data['jawVel']\n",
    "        jawAcc = data['jawAcc']\n",
    "    \n",
    "        bins_before=100 #How many bins of neural data prior to the output are used for decoding\n",
    "        bins_current=1 #Whether to use concurrent time bin of neural data\n",
    "        bins_after=5 #How many bins of neural data after the output are used for decoding\n",
    "        \n",
    "        # Format for recurrent neural networks (SimpleRNN, GRU, LSTM)\n",
    "        # Function to get the covariate matrix that includes spike history from previous bins\n",
    "        X=get_spikes_with_history(neural_data,bins_before,bins_after,bins_current)\n",
    "\n",
    "        # Format for Wiener Filter, Wiener Cascade, XGBoost, and Dense Neural Network\n",
    "        #Put in \"flat\" format, so each \"neuron / time\" is a single feature\n",
    "        X_flat=X.reshape(X.shape[0],(X.shape[1]*X.shape[2]))\n",
    "        \n",
    "        #Set decoding output\n",
    "        y=jawPos\n",
    "        \n",
    "        #Set what part of data should be part of the training/testing/validation sets\n",
    "        training_range=[0, 0.7]\n",
    "        testing_range=[0.7, 0.85]\n",
    "        valid_range=[0.85,1]\n",
    "        \n",
    "        num_examples=X.shape[0]\n",
    "\n",
    "        #Note that each range has a buffer of\"bins_before\" bins at the beginning, and \"bins_after\" bins at the end\n",
    "        #This makes it so that the different sets don't include overlapping neural data\n",
    "        training_set=np.arange(int(np.round(training_range[0]*num_examples))+bins_before,int(np.round(training_range[1]*num_examples))-bins_after)\n",
    "        testing_set=np.arange(int(np.round(testing_range[0]*num_examples))+bins_before,int(np.round(testing_range[1]*num_examples))-bins_after)\n",
    "        valid_set=np.arange(int(np.round(valid_range[0]*num_examples))+bins_before,int(np.round(valid_range[1]*num_examples))-bins_after)\n",
    "\n",
    "        #Get training data\n",
    "        X_train=X[training_set,:,:]\n",
    "        X_flat_train=X_flat[training_set,:]\n",
    "        y_train=y[training_set,:]\n",
    "\n",
    "        #Get testing data\n",
    "        X_test=X[testing_set,:,:]\n",
    "        X_flat_test=X_flat[testing_set,:]\n",
    "        y_test=y[testing_set,:]\n",
    "\n",
    "        #Get validation data\n",
    "        X_valid=X[valid_set,:,:]\n",
    "        X_flat_valid=X_flat[valid_set,:]\n",
    "        y_valid=y[valid_set,:]\n",
    "        \n",
    "        #Z-score \"X\" inputs. \n",
    "        X_train_mean=np.nanmean(X_train,axis=0)\n",
    "        X_train_std=np.nanstd(X_train,axis=0)\n",
    "        X_train=(X_train-X_train_mean)/X_train_std\n",
    "        X_test=(X_test-X_train_mean)/X_train_std\n",
    "        X_valid=(X_valid-X_train_mean)/X_train_std\n",
    "\n",
    "        #Z-score \"X_flat\" inputs. \n",
    "        X_flat_train_mean=np.nanmean(X_flat_train,axis=0)\n",
    "        X_flat_train_std=np.nanstd(X_flat_train,axis=0)\n",
    "        X_flat_train=(X_flat_train-X_flat_train_mean)/X_flat_train_std\n",
    "        X_flat_test=(X_flat_test-X_flat_train_mean)/X_flat_train_std\n",
    "        X_flat_valid=(X_flat_valid-X_flat_train_mean)/X_flat_train_std\n",
    "\n",
    "        #Zero-center outputs\n",
    "        y_train_mean=np.mean(y_train,axis=0)\n",
    "        y_train=y_train-y_train_mean\n",
    "        y_test=y_test-y_train_mean\n",
    "        y_valid=y_valid-y_train_mean\n",
    "        \n",
    "        #\"degree\" was determined during hyperparameter optimization\n",
    "        degree = 2.6606840322709155\n",
    "        model_wc=WienerCascadeDecoder(degree) #Declare model w/ fit hyperparameter\n",
    "        model_wc.fit(X_flat_train,y_train) #Fit model on training data\n",
    "        y_test_predicted_wc=model_wc.predict(X_flat_test) #Get test set predictions\n",
    "        #Print R2 values on test set\n",
    "        R2s_wc=get_R2(y_test,y_test_predicted_wc)\n",
    "        \n",
    "        print('--------------------------------')\n",
    "        print('Mode Removed: ', i)\n",
    "        print('R2s_wc:', R2s_wc)\n",
    "\n",
    "        rho2s_wc=get_rho(y_test,y_test_predicted_wc)**2\n",
    "        print('rho2s_wc:', rho2s_wc)\n",
    "        print('--------------------------------')\n"
   ]
  },
  {
   "cell_type": "code",
   "execution_count": 25,
   "id": "db537527",
   "metadata": {},
   "outputs": [
    {
     "name": "stdout",
     "output_type": "stream",
     "text": [
      "--------------------------------\n",
      "Mode Removed:  0\n",
      "R2s_wc: [0.27483263 0.32761641]\n",
      "rho2s_wc: [0.28084735 0.36931542]\n",
      "--------------------------------\n",
      "--------------------------------\n",
      "Mode Removed:  1\n",
      "R2s_wc: [0.29516913 0.50262841]\n",
      "rho2s_wc: [0.29810202 0.51461268]\n",
      "--------------------------------\n",
      "--------------------------------\n",
      "Mode Removed:  2\n",
      "R2s_wc: [0.25946621 0.4628437 ]\n",
      "rho2s_wc: [0.26007349 0.46829554]\n",
      "--------------------------------\n",
      "--------------------------------\n",
      "Mode Removed:  3\n",
      "R2s_wc: [0.26097652 0.47403516]\n",
      "rho2s_wc: [0.29350128 0.48735746]\n",
      "--------------------------------\n",
      "--------------------------------\n",
      "Mode Removed:  4\n",
      "R2s_wc: [0.27795706 0.50644807]\n",
      "rho2s_wc: [0.30086431 0.50897084]\n",
      "--------------------------------\n",
      "--------------------------------\n",
      "Mode Removed:  5\n",
      "R2s_wc: [0.27649406 0.46825612]\n",
      "rho2s_wc: [0.29615153 0.4758011 ]\n",
      "--------------------------------\n",
      "--------------------------------\n",
      "Mode Removed:  6\n",
      "R2s_wc: [0.27667948 0.51351988]\n",
      "rho2s_wc: [0.29514877 0.51367135]\n",
      "--------------------------------\n",
      "--------------------------------\n",
      "Mode Removed:  7\n",
      "R2s_wc: [0.27351732 0.51507213]\n",
      "rho2s_wc: [0.28518773 0.51518117]\n",
      "--------------------------------\n"
     ]
    }
   ],
   "source": [
    "###Load Data###\n",
    "folder='' #ENTER THE FOLDER THAT YOUR DATA IS IN\n",
    "# folder='/Users/jig289/Dropbox/MATLAB/Projects/In_Progress/BMI/Processed_Data/' \n",
    "data=io.loadmat(folder+'jeb7_decoding.mat')\n",
    "\n",
    "\n",
    "leaveOneModeOut(data)\n",
    "# # modes:\n",
    "# 1. jaw\n",
    "# 2. choice\n",
    "# 3. remainder1\n",
    "# 4. remainder2\n",
    "# and so on"
   ]
  },
  {
   "cell_type": "code",
   "execution_count": null,
   "id": "664946b9",
   "metadata": {},
   "outputs": [],
   "source": []
  },
  {
   "cell_type": "code",
   "execution_count": null,
   "id": "78a71d39",
   "metadata": {},
   "outputs": [],
   "source": []
  },
  {
   "cell_type": "code",
   "execution_count": null,
   "id": "aaca040c",
   "metadata": {},
   "outputs": [],
   "source": []
  },
  {
   "cell_type": "code",
   "execution_count": null,
   "id": "6939ebfa",
   "metadata": {},
   "outputs": [],
   "source": []
  },
  {
   "cell_type": "code",
   "execution_count": null,
   "id": "cfed4b53",
   "metadata": {},
   "outputs": [],
   "source": []
  },
  {
   "cell_type": "code",
   "execution_count": null,
   "id": "c735b915",
   "metadata": {},
   "outputs": [],
   "source": []
  }
 ],
 "metadata": {
  "kernelspec": {
   "display_name": "Python 3 (ipykernel)",
   "language": "python",
   "name": "python3"
  },
  "language_info": {
   "codemirror_mode": {
    "name": "ipython",
    "version": 3
   },
   "file_extension": ".py",
   "mimetype": "text/x-python",
   "name": "python",
   "nbconvert_exporter": "python",
   "pygments_lexer": "ipython3",
   "version": "3.9.7"
  },
  "toc": {
   "base_numbering": 1,
   "nav_menu": {},
   "number_sections": true,
   "sideBar": true,
   "skip_h1_title": false,
   "title_cell": "Table of Contents",
   "title_sidebar": "Contents",
   "toc_cell": false,
   "toc_position": {},
   "toc_section_display": true,
   "toc_window_display": false
  }
 },
 "nbformat": 4,
 "nbformat_minor": 5
}
